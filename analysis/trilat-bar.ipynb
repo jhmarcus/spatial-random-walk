{
 "cells": [
  {
   "cell_type": "markdown",
   "metadata": {},
   "source": [
    "# Triangular lattice barrier\n",
    "\n",
    "**authors:** Joseph Marcus\n",
    " \n",
    "Here I simulate genetic data under the coalescent in a triangular lattice with a barrier and explore the fit of different ways to compute expected genetic distances on simulated genotypes.\n",
    "\n",
    "Lets load the necessary packages and modules to get started "
   ]
  },
  {
   "cell_type": "code",
   "execution_count": 2,
   "metadata": {},
   "outputs": [
    {
     "name": "stdout",
     "output_type": "stream",
     "text": [
      "The autoreload extension is already loaded. To reload it, use:\n",
      "  %reload_ext autoreload\n"
     ]
    }
   ],
   "source": [
    "%load_ext autoreload\n",
    "%autoreload 2\n",
    "\n",
    "import numpy as np\n",
    "import networkx as nx\n",
    "\n",
    "import matplotlib as mpl\n",
    "import matplotlib.pyplot as plt\n",
    "import seaborn as sns\n",
    "\n",
    "import sys\n",
    "sys.path.append(\"../code/\")\n",
    "from habitat import *\n",
    "from genotype_simulator import *"
   ]
  },
  {
   "cell_type": "markdown",
   "metadata": {},
   "source": [
    "Plot size configuration"
   ]
  },
  {
   "cell_type": "code",
   "execution_count": 3,
   "metadata": {},
   "outputs": [],
   "source": [
    "sns.set_style('white')\n",
    "plt.style.use('bmh')\n",
    "mpl.rcParams['font.size'] = 14\n",
    "mpl.rcParams['figure.figsize'] = 8, 6"
   ]
  },
  {
   "cell_type": "markdown",
   "metadata": {},
   "source": [
    "## Setup the habitat"
   ]
  },
  {
   "cell_type": "markdown",
   "metadata": {},
   "source": [
    "Here we define a triangular lattice with 8 rows and 8 columns so we have 64 demes in total"
   ]
  },
  {
   "cell_type": "code",
   "execution_count": 4,
   "metadata": {},
   "outputs": [],
   "source": [
    "hab = TriangularLattice(8, 8)"
   ]
  },
  {
   "cell_type": "markdown",
   "metadata": {},
   "source": [
    "Next we need to define a migration surface which is a function on the nodes of the graph that define edge weights. Here I choose a quadratic function to match the simulations in the EEMS paper"
   ]
  },
  {
   "cell_type": "code",
   "execution_count": 34,
   "metadata": {},
   "outputs": [],
   "source": [
    "def quad_barrier_migration(self, m_min, m_max):\n",
    "    \"\"\"\n",
    "    Arguments:\n",
    "        g : nx graph\n",
    "            regular lattice\n",
    "        s : array\n",
    "            d x 2 array of spatial positions\n",
    "            \n",
    "    Returns:\n",
    "        g: nx.graph\n",
    "            regular lattice with assigned weights\n",
    "    \"\"\"\n",
    "    s0_max = np.max(self.s[:,0])\n",
    "    s0_med = np.median(self.s[:,0]) + .25\n",
    "    for i,j in self.g.edges():\n",
    "        mu = np.mean([self.s[i,0], self.s[j,0]])\n",
    "        m = (s0_max / s0_med ** 2) * (mu - s0_med) ** 2 + m_min\n",
    "        self.g[i][j][\"m\"] = min(m, m_max)\n",
    "        \n",
    "    z = nx.adjacency_matrix(self.g, weight='m')\n",
    "    z = z.toarray()\n",
    "    z_norm = z / (2 * z.sum(axis=1, keepdims=True))\n",
    "    z_norm_tril = np.tril(z_norm)\n",
    "    self.m = z_norm_tril + z_norm_tril.T\n",
    "    \n",
    "    \n",
    "    #z_triu = np.triu(z)\n",
    "    #z_triu_norm = z_triu / (z_triu.sum(axis=1, keepdims=True))\n",
    "    #z_triu_norm[np.isnan(z_triu_norm)] = 0.0\n",
    "    #self.m = z_triu_norm + z_triu_norm.T - np.diag(z_triu_norm.diagonal())\n",
    "    \n",
    "    # normalize to sum to 1\n",
    "    #self.m = self.m / (np.sum(self.m, axis=1, keepdims=True))"
   ]
  },
  {
   "cell_type": "markdown",
   "metadata": {},
   "source": [
    "We then assign this method to the habitat object"
   ]
  },
  {
   "cell_type": "code",
   "execution_count": 35,
   "metadata": {},
   "outputs": [],
   "source": [
    "hab.migration_surface = quad_barrier_migration\n",
    "hab.migration_surface(hab, .01, 3.)\n",
    "\n",
    "# compute graph laplacian\n",
    "hab.get_graph_lapl()"
   ]
  },
  {
   "cell_type": "code",
   "execution_count": 36,
   "metadata": {},
   "outputs": [
    {
     "data": {
      "text/plain": [
       "array([0.22563143, 0.50911974, 0.61212124, 0.60992685, 0.25504578,\n",
       "       0.27459944, 0.41575149, 0.42692441, 0.54612011, 0.59344231,\n",
       "       0.69402607, 0.44979909, 0.27057003, 0.43517317, 0.6014354 ,\n",
       "       0.43373704, 0.35028016, 0.57272219, 0.63868374, 0.65504897,\n",
       "       0.30497844, 0.40078946, 0.49156077, 0.5616992 , 0.54612011,\n",
       "       0.59344231, 0.69402607, 0.44979909, 0.27057003, 0.43517317,\n",
       "       0.6014354 , 0.43373704, 0.35028016, 0.57272219, 0.63868374,\n",
       "       0.65504897, 0.30497844, 0.40078946, 0.49156077, 0.5616992 ,\n",
       "       0.54612011, 0.59344231, 0.69402607, 0.44979909, 0.27057003,\n",
       "       0.43517317, 0.6014354 , 0.43373704, 0.41694683, 0.68963316,\n",
       "       0.73014518, 0.72944564, 0.31874051, 0.47518613, 0.58302222,\n",
       "       0.69527684, 0.47941759, 0.61527503, 0.74598725, 0.5       ,\n",
       "       0.25401275, 0.38472497, 0.60391574, 0.5       ])"
      ]
     },
     "execution_count": 36,
     "metadata": {},
     "output_type": "execute_result"
    }
   ],
   "source": [
    "np.sum(hab.m, axis=1)"
   ]
  },
  {
   "cell_type": "markdown",
   "metadata": {},
   "source": [
    "Lets visualize triangular lattice with edge widths proportional to the defined edge weights, note we multiply the weights by some constant just for visualization purposes. Additional the nodes have a color scheme based on their position on the map, particularly the x position difference is emphasized more than the y. the habitat"
   ]
  },
  {
   "cell_type": "code",
   "execution_count": null,
   "metadata": {},
   "outputs": [],
   "source": [
    "hab.plot_habitat(200, 2, False)"
   ]
  },
  {
   "cell_type": "markdown",
   "metadata": {},
   "source": [
    "As expected we see that the migration matrix $\\mathbf{M}$ is extremely sparse as only neighboring nodes are connected"
   ]
  },
  {
   "cell_type": "code",
   "execution_count": null,
   "metadata": {},
   "outputs": [],
   "source": [
    "hab.plot_migration_matrix()"
   ]
  },
  {
   "cell_type": "markdown",
   "metadata": {},
   "source": [
    "## Simulate genotypes"
   ]
  },
  {
   "cell_type": "markdown",
   "metadata": {},
   "source": [
    "Here we simulate genotypes under the coalescent using msprime ... this may take a bit of time. Specifically we simulate 10 haploid individuals per deme in 5000 independent regions of the genome. See `../code/genotype_simulator.py` for default params and implementation of the simulation object."
   ]
  },
  {
   "cell_type": "code",
   "execution_count": null,
   "metadata": {},
   "outputs": [],
   "source": [
    "sim_path = path = \"../output/simulations/trilat_bar.pkl\"\n",
    "geno = GenotypeSimulator(hab, sim_path, n_rep=2e3)\n",
    "print(geno.y.shape)"
   ]
  },
  {
   "cell_type": "markdown",
   "metadata": {},
   "source": [
    "Here we visualize the site frequency spectrum which seems to match the neutral expectation"
   ]
  },
  {
   "cell_type": "code",
   "execution_count": null,
   "metadata": {},
   "outputs": [],
   "source": [
    "geno.plot_sfs()"
   ]
  },
  {
   "cell_type": "markdown",
   "metadata": {},
   "source": [
    "Lets filter out too rare variants leavings us with fewer SNPs"
   ]
  },
  {
   "cell_type": "code",
   "execution_count": null,
   "metadata": {},
   "outputs": [],
   "source": [
    "geno.filter_rare_var()\n",
    "print(geno.y.shape)"
   ]
  },
  {
   "cell_type": "markdown",
   "metadata": {},
   "source": [
    "Lets peform PCA on the genotype matrix and visualize the first two PCs. Note that I center and scale the data matrix before running PCA."
   ]
  },
  {
   "cell_type": "code",
   "execution_count": null,
   "metadata": {},
   "outputs": [],
   "source": [
    "geno.pca()\n",
    "geno.plot_pca(geno.pcs, geno.pves)"
   ]
  },
  {
   "cell_type": "markdown",
   "metadata": {},
   "source": [
    "We see a strong signature of the barrier with two clusters based on geographic position on the x axis"
   ]
  },
  {
   "cell_type": "markdown",
   "metadata": {},
   "source": [
    "## Expected genetic distances"
   ]
  },
  {
   "cell_type": "markdown",
   "metadata": {},
   "source": [
    "We can see the graph laplacian is sparse as $\\mathbf{M}$ is sparse. We can think of $\\mathbf{L}$ here as a sparse precision matrix"
   ]
  },
  {
   "cell_type": "code",
   "execution_count": null,
   "metadata": {},
   "outputs": [],
   "source": [
    "hab.plot_precision_matrix(hab.l)"
   ]
  },
  {
   "cell_type": "markdown",
   "metadata": {},
   "source": [
    "We can see that $\\mathbf{L}\\mathbf{L}^T$ is also sparse but not as sparse. It seems to have an additional off-diagonal band"
   ]
  },
  {
   "cell_type": "code",
   "execution_count": null,
   "metadata": {},
   "outputs": [],
   "source": [
    "hab.plot_precision_matrix(hab.l @ hab.l.T)"
   ]
  },
  {
   "cell_type": "markdown",
   "metadata": {},
   "source": [
    "Compute observed genetic distances and different models to compute expected genetic distances. Note that I center the data matrix before computing genetic distances but I do not scale."
   ]
  },
  {
   "cell_type": "code",
   "execution_count": null,
   "metadata": {},
   "outputs": [],
   "source": [
    "# lower triangular indicies\n",
    "tril_idx = np.tril_indices(geno.n, -1)\n",
    "\n",
    "# observed genetic distance\n",
    "d_geno = geno.geno_dist()\n",
    "d_geno_tril = d_geno[tril_idx]\n",
    "\n",
    "# geographic distance\n",
    "d_geo = geno.node_to_obs_mat(hab.geo_dist(), geno.n, geno.v)\n",
    "d_geo_tril = d_geo[tril_idx]\n",
    "\n",
    "# resistence distance\n",
    "d_res = geno.node_to_obs_mat(hab.rw_dist(hab.l), geno.n, geno.v)\n",
    "d_res_tril = d_res[tril_idx]\n",
    "\n",
    "# random-walk distance\n",
    "d_rw = geno.node_to_obs_mat(hab.rw_dist(hab.l @ hab.l.T), geno.n, geno.v)\n",
    "d_rw_tril = d_rw[tril_idx]"
   ]
  },
  {
   "cell_type": "code",
   "execution_count": null,
   "metadata": {},
   "outputs": [],
   "source": [
    "geno.plot_dist(d_geo_tril, d_geno_tril, \"Geographic Distance\", \"Genetic Distance\")\n",
    "\n",
    "print('geo r2 = {}'.format(np.corrcoef(d_geo_tril, d_geno_tril)[0, 1]))"
   ]
  },
  {
   "cell_type": "code",
   "execution_count": null,
   "metadata": {
    "scrolled": false
   },
   "outputs": [],
   "source": [
    "geno.plot_dist(d_res_tril, d_geno_tril, \"Resistence Distance\", \"Genetic Distance\")\n",
    "\n",
    "print('res r2 = {}'.format(np.corrcoef(d_res_tril, d_geno_tril)[0, 1]))"
   ]
  },
  {
   "cell_type": "code",
   "execution_count": null,
   "metadata": {},
   "outputs": [],
   "source": [
    "geno.plot_dist(d_rw_tril, d_geno_tril, \"Random Walk Distance\", \"Genetic Distance\")\n",
    "\n",
    "print('rw r2 = {}'.format(np.corrcoef(d_rw_tril, d_geno_tril)[0, 1]))"
   ]
  },
  {
   "cell_type": "markdown",
   "metadata": {},
   "source": [
    "In summary ..."
   ]
  },
  {
   "cell_type": "code",
   "execution_count": null,
   "metadata": {},
   "outputs": [],
   "source": [
    "print('coal r2 = {}'.format(np.corrcoef(d_coal_tril, d_geno_tril)[0, 1]))\n",
    "print('geo r2 = {}'.format(np.corrcoef(d_geo_tril, d_geno_tril)[0, 1]))\n",
    "print('res r2 = {}'.format(np.corrcoef(d_res_tril, d_geno_tril)[0, 1]))\n",
    "print('rw r2 = {}'.format(np.corrcoef(d_rw_tril, d_geno_tril)[0, 1]))"
   ]
  },
  {
   "cell_type": "markdown",
   "metadata": {},
   "source": [
    "Interestingly the correlation between the random walk distance and genetic distance is quite similar to the correlation of the coalescent distance with genetic distance! This is appealing as the coalescent distance is computed under the model we simulate under so its as good as it gets. One caveat is we have to solve a system of equations which might have numerical precision issues. Here we use the conjugate gradient sparse solver implemented in scipy as a first pass."
   ]
  },
  {
   "cell_type": "code",
   "execution_count": null,
   "metadata": {},
   "outputs": [],
   "source": [
    "geno.plot_dist(d_rw_tril, d_coal_tril, \"Random Walk Distance\", \"Coalescent Distance\")"
   ]
  },
  {
   "cell_type": "markdown",
   "metadata": {},
   "source": [
    "It seems like the Random Walk distance is doing poorly when the coalescent distance is small."
   ]
  },
  {
   "cell_type": "code",
   "execution_count": null,
   "metadata": {},
   "outputs": [],
   "source": [
    "np.diag(hab.l)"
   ]
  },
  {
   "cell_type": "code",
   "execution_count": null,
   "metadata": {},
   "outputs": [],
   "source": []
  }
 ],
 "metadata": {
  "kernelspec": {
   "display_name": "Python 3",
   "language": "python",
   "name": "python3"
  },
  "language_info": {
   "codemirror_mode": {
    "name": "ipython",
    "version": 3
   },
   "file_extension": ".py",
   "mimetype": "text/x-python",
   "name": "python",
   "nbconvert_exporter": "python",
   "pygments_lexer": "ipython3",
   "version": "3.6.4"
  }
 },
 "nbformat": 4,
 "nbformat_minor": 2
}

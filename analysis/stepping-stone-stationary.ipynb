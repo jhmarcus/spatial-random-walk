{
 "cells": [
  {
   "cell_type": "markdown",
   "metadata": {},
   "source": [
    "# Stationarity distribution of the discrete time stepping stone model\n",
    "\n",
    "**authors:** Joseph Marcus\n",
    "\n",
    "Here I explore the stepping stone model with possible approximations building off the classic results of Bodmer and Cavalli-Sforza 1967. I essentially find there is no clean analytical form for the covariance matrix of the stationary distribution of this process."
   ]
  },
  {
   "cell_type": "markdown",
   "metadata": {},
   "source": [
    "## Discrete time stepping stone\n",
    "\n",
    "Consider a single bi-allelic SNP with haploid individuals carrying either the $A$ or $a$ allele dispersed throughout a habitat. The habitat is discretized and defined on a graph $\\mathcal{G}$ over geographic space with $d$ nodes and a migration matrix $\\mathbf{M}$ which specifies the edge weights. Note that $\\mathbf{M}$ can be interpreted as a \"backwards\" migration matrix where $m_{ij} >= 0.0$ and $\\sum_{j=1}^d m_{ij} = 1$. Furthermore, $m_{ij}$ can be interpreted as the probability that an individual in node $i$ has parents from node $j$. Let $p_{i,t}$ be the allele frequency of the $A$ allele at node $i$ and time $t$, here time is discrete as well. Each generation we can describe the evolution of the allele frequency in two steps, first a deterministic migration event where individuals are swapped amongst only neighboring nodes and a drift event which is a random fluctuation in allele frequency in each node proportional to its population size.\n",
    "\n",
    "$$\n",
    "p_{i,t} = \\sum_{j=1}^d m_{ij} p_{i,t-1}\n",
    "$$\n",
    "\n",
    "Or in matrix notation \n",
    "\n",
    "$$\n",
    "\\mathbf{p}_t = \\mathbf{M}\\mathbf{p}_{t-1}\n",
    "$$\n",
    "\n",
    "For now we don't assume any distributional form for $\\mathbf{p}_{t}$ but do define its conditional moments\n",
    "\n",
    "$$\n",
    "\\begin{aligned}\n",
    "E\\big(\\mathbf{p}_t | \\mathbf{p}_{t-1}\\big) &= \\mathbf{M}\\mathbf{p}_{t-1} \\\\\n",
    "Var\\big(\\mathbf{p}_t | \\mathbf{p}_{t-1}\\big) &= diag\\Big(\\frac{1}{\\mathbf{N}} \\odot \\mathbf{M}\\mathbf{p}_{t-1} \\odot \\big(\\mathbf{1} - \\mathbf{M}\\mathbf{p}_{t-1}\\big) \\Big)\n",
    "\\end{aligned}\n",
    "$$\n",
    "\n",
    "Here $\\mathbf{N}$ is a $d$ vector of population sizes within each node and $\\odot$ refers to element-wise multiplication. Note that this exactly corresponds to the process we described previously. There is first a deterministic migration event and variance induced by random sampling of gametes due to genetic drift. Here we make the simplifying assumption where we focus only on common SNPs such that the binomial sampling variance has a small range and approximate this conditional variance as \n",
    "\n",
    "$$\n",
    "Var\\big(\\mathbf{p}_t | \\mathbf{p}_{t-1}\\big) \\approx \\sigma^2 diag\\Big(\\frac{1}{\\mathbf{N}}\\Big)\n",
    "$$\n",
    "\n",
    "Now lets make a further assumption that the change in frequency due to drift are normally distributed\n",
    "\n",
    "$$\n",
    "\\mathbf{p}_t = \\mathbf{M}\\mathbf{p}_{t-1} + \\epsilon \\\\ \n",
    "\\epsilon | \\sigma^2, \\mathbf{N} \\sim \\mathcal{N}\\Bigg(\\mathbf{0}, \\sigma^2 diag\\Big(\\frac{1}{\\mathbf{N}}\\Big)\\Bigg) \n",
    "$$\n",
    "\n",
    "For notational simplicity let $\\mathbf{Q} = \\sigma^2diag\\Big(\\frac{1}{\\mathbf{N}}\\Big)$"
   ]
  },
  {
   "cell_type": "markdown",
   "metadata": {},
   "source": [
    "## Stationary distribution\n",
    "\n",
    "Let $\\pi(.)$ be the stationary distribution of this process and $\\mathbf{p}^{(s)}$ be a draw from the stationary distribution $\\mathbf{p}^{(s)} \\sim \\pi(.)$. It might be reasonable to assume that $\\mathbf{p}^{(s)} \\sim \\mathcal{N}\\big(\\mu, \\mathbf{\\Sigma}\\big)$. Then the distribution of $\\mathbf{M}\\mathbf{p}^{(s)} + \\epsilon$ will have covariance matrix $\\mathbf{\\Sigma}$ because we are at stationarity, resulting in ...\n",
    "\n",
    "$$\n",
    "\\mathbf{\\Sigma} = \\mathbf{M}\\mathbf{\\Sigma}\\mathbf{M}^T + \\mathbf{Q}\n",
    "$$\n",
    "\n",
    "Interestingly, this is known as the discrete time [Lyapunov equation](https://en.wikipedia.org/wiki/Lyapunov_equation) and has a limiting solution (under certain conditions for $\\mathbf{M}$)\n",
    "\n",
    "$$\n",
    "\\mathbf{\\Sigma} = \\sum_{k=0}^{\\infty} \\mathbf{M}^K\\mathbf{Q}(\\mathbf{M}^k)^T\n",
    "$$\n",
    "\n",
    "the Lyapunov equation has a more intuitive interpretation if we take a different approach in finding the stationary covariance $\\Rightarrow$"
   ]
  },
  {
   "cell_type": "markdown",
   "metadata": {},
   "source": [
    "## Limiting distribution\n",
    "\n",
    "Recall that\n",
    "\n",
    "$$\n",
    "Var\\big(\\mathbf{p}_t | \\mathbf{p}_{t-1}\\big) \\approx \\mathbf{Q}\n",
    "$$\n",
    "\n",
    "Lets find the marginal covariance of the allele frequency at time $t$ by the law of total variance \n",
    "\n",
    "$$\n",
    "\\begin{aligned}\n",
    "Var(\\mathbf{p}_t) &= E\\Big(Var\\big(\\mathbf{p}_t | \\mathbf{p}_{t-1}\\big)\\Big) +  Var\\Big(E\\big(\\mathbf{p}_{t} | \\mathbf{p}_{t-1} \\big)\\Big) \\\\\n",
    "&= E\\big(\\mathbf{Q}\\big) + Var\\big(\\mathbf{M}\\mathbf{p}_{t-1}\\big) \\\\\n",
    "&= \\mathbf{Q} + \\mathbf{M}Var(\\mathbf{p}_{t-1})\\mathbf{M}^T\n",
    "\\end{aligned}\n",
    "$$\n",
    "\n",
    "$$\n",
    "\\begin{aligned}\n",
    "\\dots \\\\\n",
    "&= \\mathbf{Q} + \\mathbf{M}Var(\\mathbf{p}_{t-1})\\mathbf{M}^T \\\\\n",
    "&= \\mathbf{Q} + \\mathbf{M}\\Big(\\mathbf{Q} + \\mathbf{M}Var(\\mathbf{p}_{t-2})\\mathbf{M}^T\\Big)\\mathbf{M}^T \\\\\n",
    "&= \\mathbf{Q} + \\mathbf{M}\\mathbf{Q}\\mathbf{M}^T + \\mathbf{M}^2 Var(\\mathbf{p}_{t-2})(\\mathbf{M}^2)^T \\\\\n",
    "&= \\mathbf{Q} + \\mathbf{M}\\mathbf{Q}\\mathbf{M}^T + \\mathbf{M}^2\\Big(\\mathbf{Q} + \\mathbf{M}Var(\\mathbf{p}_{t-3})\\mathbf{M}^T\\Big)(\\mathbf{M}^2)^T \\\\\n",
    "&= \\dots \\\\\n",
    "&= \\mathbf{Q} + \\mathbf{M}\\mathbf{Q}\\mathbf{M}^T  + \\mathbf{M}^2\\mathbf{Q}(\\mathbf{M}^2)^T + \\mathbf{M}^3\\mathbf{Q}(\\mathbf{M}^3)^T + \\dots + \\mathbf{M}^t\\mathbf{Q}\\mathbf{M}^t)^T \\\\\n",
    "&= \\sum_{k=0}^t \\mathbf{M}^k\\mathbf{Q}(\\mathbf{M}^k)^T\n",
    "\\end{aligned}\n",
    "$$\n",
    "\n",
    "If now let the process evolve for infinite time and we recognize the solution to the Lyapunov equation\n",
    "\n",
    "$$\n",
    "Var\\big(\\mathbf{p}^{(s)}\\big) = \\sum_{k=0}^{\\infty} \\mathbf{M}^K\\mathbf{Q}(\\mathbf{M}^k)^T\n",
    "$$\n",
    "\n",
    "The convergence properties of this infinite sum requires that $|\\lambda_i| < 1 \\ \\forall \\ i$ where $\\lambda_i$ is an eigen-value of $\\mathbf{M}$. Me know that $\\mathbf{M}$ is stochastic matrix and as such has an eigen-value that is exactly 1 thus there doesn't seem a tractable analytical form for the stationarity covariance of this process.  "
   ]
  }
 ],
 "metadata": {
  "kernelspec": {
   "display_name": "Python 3",
   "language": "python",
   "name": "python3"
  },
  "language_info": {
   "codemirror_mode": {
    "name": "ipython",
    "version": 3
   },
   "file_extension": ".py",
   "mimetype": "text/x-python",
   "name": "python",
   "nbconvert_exporter": "python",
   "pygments_lexer": "ipython3",
   "version": "3.6.4"
  }
 },
 "nbformat": 4,
 "nbformat_minor": 2
}

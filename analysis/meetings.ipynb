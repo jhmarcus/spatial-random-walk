{
 "cells": [
  {
   "cell_type": "markdown",
   "metadata": {},
   "source": [
    "# Meetings\n",
    "\n",
    "**authors**: Joseph Marcus"
   ]
  },
  {
   "cell_type": "markdown",
   "metadata": {},
   "source": [
    "## 1-18-2018\n",
    "\n",
    "with @jnovembre\n",
    "\n",
    "We discussed interpretations of resistance distance and commute times for a random walk on a graph. A good reference for their connections is https://homes.cs.washington.edu/~ruzzo/papers/resist.pdf. John suggested it would be important to understand how the $\\mathbf{L}\\mathbf{L}^T$ covariance relates commute times or some analogous concept. \n",
    "\n",
    "To that end we reviewed the math in Hanks 2017 which provided some intuition. Hanks 2017 introduced a discrete space (graph) continuous time Markov chain for modeling the movement of a population of random-walkers. They proceeded to derive the covariance of the stationary distribution of this process for a large population size limit. We were a bit confused of why there was a constraint for the observations to sum to zero ... $\\mathbf{y}\\mathbf{1^T}=0$ and though it could just be a result of mean-centering the data? Finally, we began to go over how to compute expected coalescent times under the stepping stone and setup the system of equations to solve from Desi's thesis.\n",
    "\n",
    "I will follow up with some more work on setting up those equations and solving them in my simulations. Also John suggested to do asymmetric migration on a square lattice which a bit easier to think about / visualize and try a simulation on a circle with a barrier. "
   ]
  },
  {
   "cell_type": "markdown",
   "metadata": {},
   "source": [
    "## 1-24-2018\n",
    "\n",
    "with @mstephens\n",
    "\n",
    "We briefly reviewed the forward in time process for the stepping stone model and how that is quite similar to the model proposed by Hanks 2017. Essentially the intuition is that at a given node we can think of a deterministic change in allele frequency forward in time via a linear combination of the allele frequencies at neighboring nodes and an additional random change due to genetic drift within a node. In the forward in time stepping stone model this random change should have variance that depends on the allele frequency (i.e. due to binomial sampling within a node), particularly proportional to something like $p(1-p)$. The model Hanks 2017 proposes essentially simplifies things by making the variance not depend on the allele frequency and constraining the random change to sum to 0.\n",
    "\n",
    "We also went over simulations I've done, the newest being the uniform on a circle, barrier on a circle, asymmetric on a square. One key idea we discussed was building intuition about weather the migration rates are the same forward in time as backward in times ... perhaps this could explain way the asymmetric simulation simulations are performing poorly for the \"random-walk\" distance. This is something @jnovembre brought up in a previous meeting as well. \n",
    "\n",
    "After the meeting I found a bug ... I was using the column sum not the row sum when computing the weighted degree matrix for the graph laplacian and once I changed that the \"random-walk\" distance actually fits the genetic distance \"decently\". It would still be important to understand if the migration rates should correspond (fwds vs bckwds) and when they wont.\n",
    "\n",
    "Matthew suggested a couple new simulations and modifications \n",
    "\n",
    "1. For the asymmetry example simulate symmetric / uniform migration along the x-axis and a slower rate on the y-axis instead of just one direction on the x.\n",
    "2. Simulate the stepping stone model forward in time for a small example\n",
    "3. Try simulating asymmetric examples in 1d and in extreme cases i.e. only in one direction\n",
    "4. Work out forwards vs. backwards rates at stationarity with all demes having the same effective size\n",
    "\n",
    "Matthew expressed interest in this approach primarily to see if we could have a simple modification to improve the resistance distance approximation whereas inferring asymmetric still might be tricky.\n",
    "\n",
    "I would like to take a step back to brainstorm what is the main goals of this project and how best to tackle them. In general my goals are to develop statistical chops on a interesting biological problem and perhaps see if we can make the EEMS framework more accurate, general and / or faster."
   ]
  },
  {
   "cell_type": "code",
   "execution_count": null,
   "metadata": {},
   "outputs": [],
   "source": []
  }
 ],
 "metadata": {
  "kernelspec": {
   "display_name": "Python 3",
   "language": "python",
   "name": "python3"
  },
  "language_info": {
   "codemirror_mode": {
    "name": "ipython",
    "version": 3
   },
   "file_extension": ".py",
   "mimetype": "text/x-python",
   "name": "python",
   "nbconvert_exporter": "python",
   "pygments_lexer": "ipython3",
   "version": "3.6.4"
  }
 },
 "nbformat": 4,
 "nbformat_minor": 2
}

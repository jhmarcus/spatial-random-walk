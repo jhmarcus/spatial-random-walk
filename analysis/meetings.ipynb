{
 "cells": [
  {
   "cell_type": "markdown",
   "metadata": {},
   "source": [
    "# Meetings\n",
    "\n",
    "**authors**: Joseph Marcus"
   ]
  },
  {
   "cell_type": "markdown",
   "metadata": {},
   "source": [
    "## 1-18-2018\n",
    "\n",
    "with jnovembre\n",
    "\n",
    "We discussed interpretations of resistance distance and commute times for a random walk on a graph. A good reference for their connections is https://homes.cs.washington.edu/~ruzzo/papers/resist.pdf. John suggested it would be important to understand how the $\\mathbf{L}\\mathbf{L}^T$ covariance relates commute times or some analogous concept. \n",
    "\n",
    "To that end we reviewed the math in Hanks 2017 which provided some intuition. Hanks 2017 introduced a discrete space (graph) continuous time Markov chain for modeling the movement of a population of random-walkers. They proceeded to derive the covariance of the stationary distribution of this process for a large population size limit. We were a bit confused of why there was a constraint for the observations to sum to zero ... $\\mathbf{y}\\mathbf{1^T}=0$ and though it could just be a result of mean-centering the data? Finally, we began to go over how to compute expected coalescent times under the stepping stone and setup the system of equations to solve from Desi's thesis.\n",
    "\n",
    "I will follow up with some more work on setting up those equations and solving them in my simulations. Also John suggested to do asymmetric migration on a square lattice which a bit easier to think about / visualize and try a simulation on a circle with a barrier. "
   ]
  },
  {
   "cell_type": "code",
   "execution_count": null,
   "metadata": {},
   "outputs": [],
   "source": []
  }
 ],
 "metadata": {
  "kernelspec": {
   "display_name": "Python 3",
   "language": "python",
   "name": "python3"
  },
  "language_info": {
   "codemirror_mode": {
    "name": "ipython",
    "version": 3
   },
   "file_extension": ".py",
   "mimetype": "text/x-python",
   "name": "python",
   "nbconvert_exporter": "python",
   "pygments_lexer": "ipython3",
   "version": "3.6.4"
  }
 },
 "nbformat": 4,
 "nbformat_minor": 2
}

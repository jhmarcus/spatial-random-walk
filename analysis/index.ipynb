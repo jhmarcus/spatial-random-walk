{
 "cells": [
  {
   "cell_type": "markdown",
   "metadata": {},
   "source": [
    "# Spatial random walk\n",
    "\n",
    "**authors:** Joseph Marcus"
   ]
  },
  {
   "cell_type": "markdown",
   "metadata": {},
   "source": [
    "## Project overview\n",
    "\n"
   ]
  },
  {
   "cell_type": "markdown",
   "metadata": {},
   "source": [
    "Exploring applications of random walk models to genetic data\n",
    "\n",
    "* [Understanding spatial autoregressive models](analysis/spatial-autoregressive.html) Here I provide background of autoregressive models with applications to spatial genetic data.\n",
    "* [Understanding laplacian smoothing](analysis/laplacian-smoothing.html) Here I provide background of laplacian estimating smooth functions defined on nodes on a graph.\n",
    "* [Triangular lattice simulations](analysis/trilat-habitat-sim.html) Here I simulate genetic data under the coalescent in a triangular lattice and explore the fit of different ways to compute expected genetic distances on simulated genotypes."
   ]
  },
  {
   "cell_type": "markdown",
   "metadata": {},
   "source": [
    "## Credits\n",
    "\n",
    "This Jupyter notebook website was developed by [Peter Carbonetto](http://pcarbo.github.io) and [Gao Wang](https://github.com/gaow) at the [University of Chicago](https://www.uchicago.edu)."
   ]
  }
 ],
 "metadata": {
  "kernelspec": {
   "display_name": "Python 3",
   "language": "python",
   "name": "python3"
  },
  "language_info": {
   "codemirror_mode": {
    "name": "ipython",
    "version": 3
   },
   "file_extension": ".py",
   "mimetype": "text/x-python",
   "name": "python",
   "nbconvert_exporter": "python",
   "pygments_lexer": "ipython3",
   "version": "3.6.4"
  }
 },
 "nbformat": 4,
 "nbformat_minor": 2
}

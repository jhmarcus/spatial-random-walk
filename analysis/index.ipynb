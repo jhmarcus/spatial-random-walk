{
 "cells": [
  {
   "cell_type": "markdown",
   "metadata": {},
   "source": [
    "# Spatial random walk\n",
    "\n",
    "**authors:** Joseph Marcus"
   ]
  },
  {
   "cell_type": "markdown",
   "metadata": {},
   "source": [
    "## Project overview\n",
    "\n",
    "Exploring applications of random walk models to genetic data. [Here](analysis/meetings.html) are notes from our meetings I have that a relevant to this project.\n",
    "\n",
    "### Background\n",
    "\n",
    "\n",
    "### Simulations\n",
    "\n",
    "*Here I simulate genetic data under the coalescent in various graph topologies / migration surfaces and explore the fit of different ways to compute expected genetic distances on simulated genotypes*\n",
    "\n",
    "*re-working simulations stayed tuned!*"
   ]
  },
  {
   "cell_type": "markdown",
   "metadata": {},
   "source": [
    "## Credits\n",
    "\n",
    "**ipynb website** was developed by:\n",
    "\n",
    "Peter Carbonetto and Gao Wang<br>\n",
    "Dept. of Human Genetics<br>\n",
    "University of Chicago<br>\n",
    "\n",
    "[John Blischak](https://github.com/jdblischak),\n",
    "[Matthew Stephens](http://stephenslab.uchicago.edu) and others have\n",
    "also contributed to the development of this software."
   ]
  }
 ],
 "metadata": {
  "kernelspec": {
   "display_name": "Python 3",
   "language": "python",
   "name": "python3"
  },
  "language_info": {
   "codemirror_mode": {
    "name": "ipython",
    "version": 3
   },
   "file_extension": ".py",
   "mimetype": "text/x-python",
   "name": "python",
   "nbconvert_exporter": "python",
   "pygments_lexer": "ipython3",
   "version": "3.6.4"
  }
 },
 "nbformat": 4,
 "nbformat_minor": 2
}

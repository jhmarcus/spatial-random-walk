{
 "cells": [
  {
   "cell_type": "markdown",
   "metadata": {},
   "source": [
    "# Spatial random walk\n",
    "\n",
    "**authors:** Joseph Marcus"
   ]
  },
  {
   "cell_type": "markdown",
   "metadata": {},
   "source": [
    "## Project overview\n",
    "\n",
    "Exploring applications of random walk models to genetic data\n",
    "\n",
    "### Background\n",
    "\n",
    "* [Understanding spatial autoregressive models](analysis/spatial-autoregressive.html) *Here I provide background of autoregressive models with applications to spatial genetic data.*\n",
    "* [Understanding laplacian smoothing](analysis/laplacian-smoothing.html) *Here I provide background of laplacian smoothing for estimating smooth functions defined on nodes on a graph.*\n",
    "\n",
    "### Simulations\n",
    "\n",
    "* [Triangular lattice barrier](analysis/trilat-bar.html) *Here I simulate genetic data under the coalescent in a triangular lattice with a barrier and explore the fit of different ways to compute expected genetic distances on simulated genotypes.*\n",
    "* [Circular habitat uniform](analysis/circ-unif.html) *Here I simulate genetic data under the coalescent in a circular habitat and explore the fit of different ways to compute expected genetic distances on simulated genotypes.*\n",
    "* [Triangular lattice asymmetric](analysis/trilat-asym.html) *Here I simulate genetic data under the coalescent in a triangular lattice with asymmetric migration and explore the fit of different ways to compute expected genetic distances on simulated genotypes.*\n",
    "\n",
    "### Sandbox"
   ]
  },
  {
   "cell_type": "markdown",
   "metadata": {},
   "source": [
    "## Credits\n",
    "\n",
    "**ipynb website** was developed by:\n",
    "\n",
    "Peter Carbonetto and Gao Wang<br>\n",
    "Dept. of Human Genetics<br>\n",
    "University of Chicago<br>\n",
    "\n",
    "[John Blischak](https://github.com/jdblischak),\n",
    "[Matthew Stephens](http://stephenslab.uchicago.edu) and others have\n",
    "also contributed to the development of this software."
   ]
  },
  {
   "cell_type": "code",
   "execution_count": null,
   "metadata": {},
   "outputs": [],
   "source": []
  }
 ],
 "metadata": {
  "kernelspec": {
   "display_name": "Python 3",
   "language": "python",
   "name": "python3"
  },
  "language_info": {
   "codemirror_mode": {
    "name": "ipython",
    "version": 3
   },
   "file_extension": ".py",
   "mimetype": "text/x-python",
   "name": "python",
   "nbconvert_exporter": "python",
   "pygments_lexer": "ipython3",
   "version": "3.6.4"
  }
 },
 "nbformat": 4,
 "nbformat_minor": 2
}

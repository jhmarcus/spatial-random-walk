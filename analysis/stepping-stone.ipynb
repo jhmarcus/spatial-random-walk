{
 "cells": [
  {
   "cell_type": "markdown",
   "metadata": {},
   "source": [
    "# Stepping stone exploration\n",
    "\n",
    "**authors:** Joseph Marcus\n",
    "\n",
    "Here I explore the stepping stone model with possible approximations building off the classic results of Bodmer and Cavalli-Sforza 1967. The notes here are a bit scattered and I will clean them up later ...\n",
    "\n",
    "The forward in time migration matrix $\\widetilde{\\mathbf{M}}$ has the interpretation of $\\tilde{m}_{ij}$ being the probability that children of parents born in deme $j$ move to deme $i$. The backwards migration matrix $\\mathbf{M}$ where $m_{ij} = \\frac{\\tilde{m}_{ij} n_{j,t}}{\\sum_{j=1}^d\\tilde{m}_{ij} n_{j,t}}$ can be interpreted as the probability that a childen born in deme $i$ come from parents born in deme $j$. Thus the forward in time stepping stone model can be written as \n",
    "\n",
    "$$\n",
    "p_{i,t} = \\sum_{j=1}^d m_{ij} p_{j,t-1} + \\epsilon_i\n",
    "$$\n",
    "\n",
    "for simplification / convenience we can assume $\\epsilon_i \\sim \\mathcal{N}\\Bigg(0, \\frac{\\sum_{j=1}^d m_{ij} p_{j,t-1} \\big(1 - \\sum_{j=1}^d m_{ij} p_{j,t-1}\\big)}{N_i}\\Bigg)$ or in matrix notation \n",
    "\n",
    "\n",
    "$$\n",
    "\\mathbf{p}_t = \\mathbf{M}\\mathbf{p}_{t-1} + \\epsilon\n",
    "$$\n",
    "\n",
    "\n",
    "where $\\epsilon \\sim \\mathcal{N}\\Big(\\mathbf{0}, diag\\big(\\frac{1}{\\mathbf{N}} \\odot \\mathbf{M}\\mathbf{p}_{t-1} \\odot (\\mathbf{1} - \\mathbf{M}\\mathbf{p}_{t-1})\\big)\\Big)$ \n",
    "\n",
    "Because in many applications $N_i >> \\sum_{j=1}^d m_{ij} p_{j,t-1}$ we approximate the variance in allele frequency induced by drift simply as \n",
    "\n",
    "$$\n",
    "\\epsilon \\sim \\mathcal{N}\\Big(\\mathbf{0}, \\sigma^2diag\\big(\\frac{1}{\\mathbf{N}}\\big)\\Big)\n",
    "$$\n",
    "\n",
    "This implies that\n",
    "\n",
    "$$\n",
    "\\mathbf{p}_{t} | \\mathbf{M}, \\mathbf{N}, \\mathbf{p}_{t-1} \\sim \\mathcal{N}\\Big(\\mathbf{M}\\mathbf{p}_{t-1}, \\sigma^2diag\\big(\\frac{1}{\\mathbf{N}}\\big)\\Big)\n",
    "$$\n",
    "\n",
    "The marginal distribution of $\\mathbf{p}_t$ can be found\n",
    "\n",
    "$$\n",
    "E(\\mathbf{p}_t) = E\\big(E(\\mathbf{p}_t| \\mathbf{p}_{t-1})\\big) = \\mathbf{M}E(\\mathbf{p}_{t-1}) = \\mathbf{M}^t\\mathbf{p}_0\n",
    "$$\n",
    "\n",
    "$$\n",
    "\\begin{aligned}\n",
    "Var(\\mathbf{p}_t) &= E\\big(Var(\\mathbf{p}_t| \\mathbf{p}_{t-1})\\big) + Var\\big(E(\\mathbf{p}_t| \\mathbf{p}_{t-1})\\big)  \\\\\n",
    "&= \\sigma^2diag\\big(\\frac{1}{\\mathbf{N}}\\big) + \\mathbf{M}\\Big(\\sigma^2diag\\big(\\frac{1}{\\mathbf{N}}\\big)\\Big)\\mathbf{M}^T\n",
    "\\end{aligned}\n",
    "$$\n",
    "\n",
    "Letting $\\mathbf{Q} = diag\\big(\\frac{1}{\\mathbf{N}}\\big)$\n",
    "\n",
    "$$\n",
    "\\mathbf{p}_t | \\mathbf{M}, \\mathbf{N}, \\mathbf{p}_0, \\sigma^2 \\sim \\mathcal{N}\\Bigg(\\mathbf{M}^t\\mathbf{p}_0, \\sigma^2\\Big(\\mathbf{Q} + \\mathbf{M}\\mathbf{Q}\\mathbf{M}^T\\Big)\n",
    "\\Bigg)\n",
    "$$"
   ]
  },
  {
   "cell_type": "code",
   "execution_count": null,
   "metadata": {},
   "outputs": [],
   "source": []
  },
  {
   "cell_type": "markdown",
   "metadata": {},
   "source": [
    "To build intuiton lets consider the difference equation\n",
    "\n",
    "$$\n",
    "\\begin{aligned}\n",
    "\\mathbf{p}_{t} - \\mathbf{p}_{t-1} &= \\mathbf{M}\\mathbf{p}_{t-1} - \\mathbf{p}_{t-1} + \\epsilon \\\\\n",
    "&= (\\mathbf{M} - \\mathbf{I})\\mathbf{p}_{t-1} + \\epsilon\n",
    "\\end{aligned}\n",
    "$$\n",
    "\n",
    "Because the migration matrix is considered to be a stochastic matrix whose rows sum to 1 we can define graph laplacian as $\\mathbf{L} = \\mathbf{I} - \\mathbf{M}$ and as such \n",
    "\n",
    "$$\n",
    "\\begin{aligned}\n",
    "\\dots \\\\\n",
    "&= -\\mathbf{L}\\mathbf{p}_{t-1} + \\epsilon\n",
    "\\end{aligned}\n",
    "$$"
   ]
  }
 ],
 "metadata": {
  "kernelspec": {
   "display_name": "Python 3",
   "language": "python",
   "name": "python3"
  },
  "language_info": {
   "codemirror_mode": {
    "name": "ipython",
    "version": 3
   },
   "file_extension": ".py",
   "mimetype": "text/x-python",
   "name": "python",
   "nbconvert_exporter": "python",
   "pygments_lexer": "ipython3",
   "version": "3.6.4"
  }
 },
 "nbformat": 4,
 "nbformat_minor": 2
}

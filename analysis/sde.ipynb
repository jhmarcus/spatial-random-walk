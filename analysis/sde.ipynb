{
 "cells": [
  {
   "cell_type": "markdown",
   "metadata": {},
   "source": [
    "# Stochastic differential equations\n",
    "\n",
    "**authors:** Joseph Marcus\n",
    "\n",
    "Here I provide background background on a stochastic differential equation formulation of the stepping stone model."
   ]
  },
  {
   "cell_type": "markdown",
   "metadata": {},
   "source": [
    "$$\n",
    "\\frac{\\partial p_i}{\\partial t} = \\sum_{i \\neq j} m_{ij} (p_j - p_i) + \\sqrt{\\frac{p_i(1-p_i)}{N_e}}\\gamma_i\n",
    "$$\n",
    "\n",
    "In matrix notation this is \n",
    "\n",
    "$$\n",
    "\\frac{\\partial \\mathbf{p}}{\\partial t} = -\\mathbf{Q}^T\\mathbf{p} + diag\\Bigg(\\sqrt{\\frac{\\mathbf{p} \\cdot (\\mathbf{1}-\\mathbf{p})}{N_e}}\\Bigg) \\mathbf{\\gamma}\n",
    "$$"
   ]
  }
 ],
 "metadata": {
  "kernelspec": {
   "display_name": "Python 3",
   "language": "python",
   "name": "python3"
  },
  "language_info": {
   "codemirror_mode": {
    "name": "ipython",
    "version": 3
   },
   "file_extension": ".py",
   "mimetype": "text/x-python",
   "name": "python",
   "nbconvert_exporter": "python",
   "pygments_lexer": "ipython3",
   "version": "3.6.4"
  }
 },
 "nbformat": 4,
 "nbformat_minor": 2
}

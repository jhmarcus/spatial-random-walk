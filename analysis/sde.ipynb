{
 "cells": [
  {
   "cell_type": "markdown",
   "metadata": {},
   "source": [
    "# Stepping stone stochastic differential equations\n",
    "\n",
    "**authors:** Joseph Marcus\n",
    "\n",
    "Here I provide background background on a stochastic differential equation formulation of the stepping stone model."
   ]
  },
  {
   "cell_type": "markdown",
   "metadata": {},
   "source": [
    "$$\n",
    "\\frac{\\partial p_i(t)}{\\partial t} = \\sum_{i \\neq j} m_{ij} \\big(p_j(t) - p_i(t)\\big) + \\sqrt{\\frac{p_i(t)\\big(1-p_i(t)\\big)}{N_e}}\\gamma_i\n",
    "$$\n",
    "\n",
    "where $\\gamma_i \\sim \\mathcal{N}(0, 1)$ and $\\gamma^T\\mathbf{1} = 0$. In matrix notation this is \n",
    "\n",
    "$$\n",
    "\\frac{\\partial \\mathbf{p}(t)}{\\partial t} = -\\mathbf{L}^T\\mathbf{p}(t) + diag\\Bigg(\\sqrt{\\frac{\\mathbf{p}(t) \\cdot \\big(\\mathbf{1}-\\mathbf{p}(t)\\big)}{N_e}}\\Bigg) \\mathbf{\\gamma}\n",
    "$$\n",
    "\n",
    "Now $\\mathbf{\\gamma} \\sim \\mathcal{N}(\\mathbf{0}, \\mathbf{I})$ and $\\mathbf{L}$ is $d \\times d$ graph laplacian matrix where $\\mathbf{L} = \\mathbf{D} - \\mathbf{M}$ where $\\mathbf{M}$ stores the forward in time migration rates and $\\mathbf{D}$ is a diagonal matrix storing $d_{ii} = \\sum_{k} = m_{ik}$. The stationary distribution of $\\mathbf{p}(t)$ can be found be letting $\\frac{\\partial \\mathbf{p}(t)}{\\partial t} = \\mathbf{0}$. \n",
    "\n",
    "$$\n",
    "\\begin{aligned}\n",
    "\\mathbf{0} &= -\\mathbf{L}^T \\pi + diag\\Bigg(\\sqrt{\\frac{\\pi \\cdot \\big(\\mathbf{1}-\\pi\\big)}{N_e}}\\Bigg) \\mathbf{\\gamma} \\\\\n",
    "\\mathbf{L}^T \\pi &= diag\\Bigg(\\sqrt{\\frac{\\pi \\cdot \\big(\\mathbf{1}-\\pi\\big)}{N_e}}\\Bigg) \\mathbf{\\gamma} \\\\\n",
    "\\pi &= (\\mathbf{L}^T)^{-1}diag\\Bigg(\\sqrt{\\frac{\\pi \\cdot \\big(\\mathbf{1}-\\pi\\big)}{N_e}}\\Bigg) \\mathbf{\\gamma}\n",
    "\\end{aligned}\n",
    "$$\n"
   ]
  },
  {
   "cell_type": "code",
   "execution_count": null,
   "metadata": {},
   "outputs": [],
   "source": []
  }
 ],
 "metadata": {
  "kernelspec": {
   "display_name": "Python 3",
   "language": "python",
   "name": "python3"
  },
  "language_info": {
   "codemirror_mode": {
    "name": "ipython",
    "version": 3
   },
   "file_extension": ".py",
   "mimetype": "text/x-python",
   "name": "python",
   "nbconvert_exporter": "python",
   "pygments_lexer": "ipython3",
   "version": "3.6.4"
  }
 },
 "nbformat": 4,
 "nbformat_minor": 2
}

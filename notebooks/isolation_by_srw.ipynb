{
 "cells": [
  {
   "cell_type": "markdown",
   "metadata": {},
   "source": [
    "# Isolation by spatial random walks"
   ]
  },
  {
   "cell_type": "markdown",
   "metadata": {},
   "source": [
    "Here I explore the isolation by resistence [[McRae 2006](); [McRae 2007]()] approximation to expected genetic distances using simulations under the coalescent, following [[Petkova et al. 2016]()]. I also explore a recent development in the spatial statistics literature, which derives the induced covariance under a spatial-temporal random walk that can be implemented as a simulatanous auto-regressive process (SAR) [[Hanks 2016]()]. This framework allows for an analgous concept of resistence distance on directed graphs which could be of use for inference of asymetric migration in natural systems. See the `ref` directory for a non-exhausitve list of other relevent papers on this topic."
   ]
  },
  {
   "cell_type": "markdown",
   "metadata": {},
   "source": [
    "# Background"
   ]
  },
  {
   "cell_type": "markdown",
   "metadata": {},
   "source": []
  },
  {
   "cell_type": "markdown",
   "metadata": {},
   "source": [
    "# Simulations"
   ]
  },
  {
   "cell_type": "markdown",
   "metadata": {},
   "source": [
    "## Imports / Configuration"
   ]
  },
  {
   "cell_type": "markdown",
   "metadata": {},
   "source": [
    "Import standand libraries as well as some scripts in `../scripts` that have defined helper function to setup the habitat and simulate data under the coalescent given a habitat"
   ]
  },
  {
   "cell_type": "code",
   "execution_count": null,
   "metadata": {},
   "outputs": [],
   "source": [
    "%matplotlib inline\n",
    "\n",
    "import math\n",
    "import numpy as np\n",
    "import pandas as pd\n",
    "import networkx as nx\n",
    "import matplotlib as mpl\n",
    "import matplotlib.pyplot as plt\n",
    "from matplotlib import cm\n",
    "import seaborn as sns\n",
    "\n",
    "sns.set_style('whitegrid')\n",
    "\n",
    "mpl.rcParams['font.size'] = 14\n",
    "mpl.rcParams['figure.figsize'] = 8, 6\n",
    "\n",
    "from sklearn.decomposition import PCA\n",
    "from scipy.spatial.distance import pdist, squareform\n",
    "from scipy.sparse.csgraph import laplacian\n",
    "from scipy.linalg import pinv\n",
    "import pickle as pkl\n",
    "import os\n",
    "\n",
    "# import helper functions for this notebook\n",
    "import sys\n",
    "sys.path.append('../scripts/')\n",
    "from define_habitat import gen_lattice, quadratic_barrier_weights\n",
    "from simulate_genotypes import stepping_stone"
   ]
  },
  {
   "cell_type": "markdown",
   "metadata": {},
   "source": [
    "## Setup the habitat"
   ]
  },
  {
   "cell_type": "markdown",
   "metadata": {},
   "source": [
    "Here we simulate a habitat as a $8 \\times 8$ triangular lattice $\\mathcal{G}$ consiting of nodes and edges $\\{\\mathbf{v}, \\mathbf{e}\\}$. To simulate a barrier we define a quadratic function $f(s)$ of the spatial positions $s$ of each node. $f(s)$ is minimized at the middle of the barrier and the barrier is always set in the center of the habitat. We will consider different migration patterns later."
   ]
  },
  {
   "cell_type": "code",
   "execution_count": null,
   "metadata": {},
   "outputs": [],
   "source": [
    "n = 8\n",
    "p = 8\n",
    "d = n * p\n",
    "lattice_dict = gen_lattice(n, p)\n",
    "g = lattice_dict['g']\n",
    "s = lattice_dict['s']\n",
    "v = lattice_dict['v']\n",
    "pos_dict = lattice_dict['pos_dict']\n",
    "m_min = .01 # max migration level\n",
    "m_max = 3. # min migration level\n",
    "g = quadratic_barrier_weights(g, s, m_min, m_max)\n",
    "weights = [g[i][j]['m'] for i,j in g.edges()]"
   ]
  },
  {
   "cell_type": "markdown",
   "metadata": {},
   "source": [
    "The triangular lattice is visualized with edge widths proportional to the defined edge weights, note we multiply by some constant just for visualization purposes. We color the nodes based on there position on the x-axis as that is more pertinent for the position of the barrier ..."
   ]
  },
  {
   "cell_type": "code",
   "execution_count": null,
   "metadata": {},
   "outputs": [],
   "source": [
    "nx.draw(g, pos=pos_dict, node_size=200, node_color=s[:,0]**2 + (np.sqrt(d) / 2) * s[:,1], cmap=cm.viridis)  \n",
    "nx.draw_networkx_edges(g, pos_dict, width=2*np.array(weights))"
   ]
  },
  {
   "cell_type": "markdown",
   "metadata": {},
   "source": [
    "Extract the migration matrix $\\mathbf{M}$ which store all the edge weights in $\\mathcal{H}$"
   ]
  },
  {
   "cell_type": "code",
   "execution_count": null,
   "metadata": {},
   "outputs": [],
   "source": [
    "m = nx.adjacency_matrix(g, weight='m')\n",
    "m = m.toarray()\n",
    "d = m.shape[0]"
   ]
  },
  {
   "cell_type": "markdown",
   "metadata": {},
   "source": [
    "As expected we see that the migration matrix $\\mathbf{M}$ is extremley sparse as only neighboring nodes are connected"
   ]
  },
  {
   "cell_type": "code",
   "execution_count": null,
   "metadata": {},
   "outputs": [],
   "source": [
    "plt.imshow(m, cmap=cm.viridis)\n",
    "plt.colorbar()"
   ]
  },
  {
   "cell_type": "markdown",
   "metadata": {},
   "source": [
    "## Simulate genotypes"
   ]
  },
  {
   "cell_type": "markdown",
   "metadata": {},
   "source": [
    "Here we simulate genotypes under the coalescent using `msprime` ... this may take a bit of time. Specifically we simulate 10 haploid individuals per node in 5000 indepedent regions of the genome. See `../scripts/simulate_genotypes` for default parameters"
   ]
  },
  {
   "cell_type": "code",
   "execution_count": null,
   "metadata": {},
   "outputs": [],
   "source": [
    "%%time\n",
    "path = '../output/y_barrier_stepping_stone.pkl'\n",
    "if os.path.exists(path):\n",
    "    with open(path, 'rb') as geno:\n",
    "        y = pkl.load(geno)\n",
    "else:\n",
    "    with open(path, 'wb') as geno:\n",
    "        y = stepping_stone(m, n_rep=5000, n=10)\n",
    "        pkl.dump(y, geno)"
   ]
  },
  {
   "cell_type": "code",
   "execution_count": null,
   "metadata": {},
   "outputs": [],
   "source": [
    "n, p = y.shape \n",
    "print(n, p)"
   ]
  },
  {
   "cell_type": "markdown",
   "metadata": {},
   "source": [
    "Extract individual positions, demes, and migration rates"
   ]
  },
  {
   "cell_type": "code",
   "execution_count": null,
   "metadata": {},
   "outputs": [],
   "source": [
    "v_obs = np.repeat(v, int(n / d)).T\n",
    "s_obs = np.vstack([np.repeat(s[:,0], int(n / d)), np.repeat(s[:,1], int(n / d))]).T\n",
    "m_obs = np.zeros((n, n))\n",
    "for i in range(n):\n",
    "    for j in range(n):\n",
    "        m_obs[i,j] = m[v_obs[i], v_obs[j]]"
   ]
  },
  {
   "cell_type": "markdown",
   "metadata": {},
   "source": [
    "Here we visualize the site frequency spectrum and can see an enricment of common variants under the netural constant population size / random mating expectation which is expected given the migration model we have defined!"
   ]
  },
  {
   "cell_type": "code",
   "execution_count": null,
   "metadata": {
    "scrolled": false
   },
   "outputs": [],
   "source": [
    "dac = np.sum(y, axis=0) \n",
    "x = np.arange(1, n) / n\n",
    "sfs = np.histogram(dac, bins=np.arange(1, n+1))[0]\n",
    "plt.semilogy(x, sfs / sfs[0], '.')\n",
    "plt.semilogy(x, 1 / (x * n), '--')\n",
    "plt.xlabel('Derived Allele Frequency')\n",
    "plt.ylabel('log(Count)')"
   ]
  },
  {
   "cell_type": "markdown",
   "metadata": {},
   "source": [
    "Lets remove rare variants for subsequent visualization"
   ]
  },
  {
   "cell_type": "code",
   "execution_count": null,
   "metadata": {},
   "outputs": [],
   "source": [
    "fil_idx = np.where(((dac / n) >= .05) & ((dac / n) <= .95))[0]\n",
    "y = y[:,fil_idx]\n",
    "p = float(y.shape[1])\n",
    "print(n, p)"
   ]
  },
  {
   "cell_type": "markdown",
   "metadata": {},
   "source": [
    "Normalize the data for PCA"
   ]
  },
  {
   "cell_type": "code",
   "execution_count": null,
   "metadata": {},
   "outputs": [],
   "source": [
    "mu = np.mean(y, axis=0)\n",
    "std = np.std(y, axis=0)\n",
    "z = (y - mu) / std"
   ]
  },
  {
   "cell_type": "markdown",
   "metadata": {},
   "source": [
    "Running PCA on the normalized genotype data, we see a strong signature of the barrier."
   ]
  },
  {
   "cell_type": "code",
   "execution_count": null,
   "metadata": {},
   "outputs": [],
   "source": [
    "pca = PCA(n_components=5)\n",
    "pca.fit(z.T)\n",
    "pcs = pca.components_.T\n",
    "plt.scatter(pcs[:,0], pcs[:,1], c=s_obs[:,0]**2 + (np.sqrt(d) / 2) * s_obs[:,1], cmap=cm.viridis)\n",
    "plt.xlabel('PC1')\n",
    "plt.ylabel('PC2')"
   ]
  },
  {
   "cell_type": "markdown",
   "metadata": {},
   "source": [
    "## Computing distances"
   ]
  },
  {
   "cell_type": "markdown",
   "metadata": {},
   "source": [
    "Compute the squred euclidian genetic distance using the mean centered genotypes"
   ]
  },
  {
   "cell_type": "code",
   "execution_count": null,
   "metadata": {},
   "outputs": [],
   "source": [
    "d_geno = squareform(pdist((y - mu), metric='seuclidean')) / p"
   ]
  },
  {
   "cell_type": "markdown",
   "metadata": {},
   "source": [
    "We compute the resistence distance using the inverse of the graph laplacian ...\n",
    "\n",
    "\n",
    "$$\n",
    "\\mathbf{L} = \\mathbf{D} - \\mathbf{M}\n",
    "$$\n",
    "\n",
    "$$\n",
    "\\mathbf{R} = \\mathbf{1}diag(\\mathbf{L}^{-1})^T + diag(\\mathbf{L}^{-1})\\mathbf{1}^T - 2\\mathbf{L}^{-1}\n",
    "$$\n",
    "\n",
    "where $\\mathbf{D}$ is a diagonal matrix storing the degree $d_{ii} = \\sum_{k \\neq i} d_{ik}$ of each node and $\\mathbf{1}$ is a column vector of size $n$. The matrix form above correponds to ...\n",
    "\n",
    "$$\n",
    "r_{ij} = l^{-1}_{ii} + l^{-1}_{jj} - 2l^{-1}_{ij}\n",
    "$$\n",
    "\n",
    "Additionaly we compute the random-walk distance, following [[Hooten 2016]()] by ...\n",
    "\n",
    "$$\n",
    "\\tilde{\\mathbf{R}} = \\mathbf{1}diag\\big((\\mathbf{L}\\mathbf{L}^T)^{-1}\\big)^T + diag\\big((\\mathbf{L}\\mathbf{L}^T)^{-1}\\big)\\mathbf{1}^T - 2(\\mathbf{L}\\mathbf{L}^T)^{-1}\n",
    "$$"
   ]
  },
  {
   "cell_type": "markdown",
   "metadata": {},
   "source": [
    "Compute the geographic distance based on the lattice $\\mathcal{G}$ positions"
   ]
  },
  {
   "cell_type": "code",
   "execution_count": null,
   "metadata": {},
   "outputs": [],
   "source": [
    "d_geo = squareform(pdist(s_obs, metric='seuclidean')) / 2"
   ]
  },
  {
   "cell_type": "markdown",
   "metadata": {},
   "source": [
    "Compute the graph laplacian"
   ]
  },
  {
   "cell_type": "code",
   "execution_count": null,
   "metadata": {},
   "outputs": [],
   "source": [
    "l = laplacian(m_obs)\n",
    "print(l.shape)\n",
    "\n",
    "ones = np.ones(n).reshape(n, 1)\n",
    "print(ones.shape)"
   ]
  },
  {
   "cell_type": "markdown",
   "metadata": {},
   "source": [
    "We can see the graph laplacian is sparse as $\\mathbf{M}$ is sparse. We can think of $\\mathbf{L}$ here as a sparse presicion matrix."
   ]
  },
  {
   "cell_type": "code",
   "execution_count": null,
   "metadata": {},
   "outputs": [],
   "source": [
    "plt.imshow(l, cmap='bwr', norm=mpl.colors.Normalize(vmin=-np.max(l), vmax=np.max(l)))\n",
    "plt.colorbar()"
   ]
  },
  {
   "cell_type": "markdown",
   "metadata": {},
   "source": [
    "Compute the resistence distance $\\mathbf{R}$"
   ]
  },
  {
   "cell_type": "code",
   "execution_count": null,
   "metadata": {},
   "outputs": [],
   "source": [
    "linv = pinv(l)\n",
    "linv_diag = np.diag(linv).reshape(n, 1)\n",
    "d_res = ones.dot(linv_diag.T) + linv_diag.dot(ones.T) - (2. * linv)"
   ]
  },
  {
   "cell_type": "markdown",
   "metadata": {},
   "source": [
    "Compute the random-walk distance $\\tilde{\\mathbf{R}}$"
   ]
  },
  {
   "cell_type": "code",
   "execution_count": null,
   "metadata": {},
   "outputs": [],
   "source": [
    "llt = l.dot(l.T)\n",
    "plt.imshow(llt, cmap='bwr', norm=mpl.colors.Normalize(vmin=-np.max(llt), vmax=np.max(llt)))\n",
    "plt.colorbar()"
   ]
  },
  {
   "cell_type": "code",
   "execution_count": null,
   "metadata": {},
   "outputs": [],
   "source": [
    "lltinv = pinv(llt)\n",
    "lltinv_diag = np.diag(lltinv).reshape(n, 1)\n",
    "d_rw = ones.dot(lltinv_diag.T) + lltinv_diag.dot(ones.T) - (2. * lltinv)"
   ]
  },
  {
   "cell_type": "markdown",
   "metadata": {},
   "source": [
    "Visualize the semivarigram for difference input distances"
   ]
  },
  {
   "cell_type": "code",
   "execution_count": null,
   "metadata": {},
   "outputs": [],
   "source": [
    "tri_idx = np.tril_indices(n, -1)\n",
    "dist_df = pd.DataFrame({'Geographic Distance': d_geo[tri_idx], \n",
    "                        'Genetic Distance': d_geno[tri_idx],\n",
    "                        'Resistence Distance': d_res[tri_idx],\n",
    "                        'Random-Walk Distance': d_rw[tri_idx]\n",
    "                       })\n"
   ]
  },
  {
   "cell_type": "code",
   "execution_count": null,
   "metadata": {},
   "outputs": [],
   "source": [
    "print('r2 = {}'.format(np.corrcoef(dist_df['Geographic Distance'], dist_df['Genetic Distance'])[0, 1]))\n",
    "sns.lmplot(x='Geographic Distance', y='Genetic Distance', data=dist_df)"
   ]
  },
  {
   "cell_type": "code",
   "execution_count": null,
   "metadata": {},
   "outputs": [],
   "source": [
    "print('r2 = {}'.format(np.corrcoef(dist_df['Resistence Distance'], dist_df['Genetic Distance'])[0, 1]))\n",
    "sns.lmplot(x='Resistence Distance', y='Genetic Distance', data=dist_df)"
   ]
  },
  {
   "cell_type": "code",
   "execution_count": null,
   "metadata": {},
   "outputs": [],
   "source": [
    "print('r2 = {}'.format(np.corrcoef(dist_df['Random-Walk Distance'], dist_df['Genetic Distance'])[0, 1]))\n",
    "sns.lmplot(x='Random-Walk Distance', y='Genetic Distance', data=dist_df)\n"
   ]
  },
  {
   "cell_type": "markdown",
   "metadata": {},
   "source": [
    "We can see that the random-walk distance has the highest correlation with the genetic distance out of the 3 we compare here. I'm confused why the resistence distance is performing so poorly here as it should be better than geographic distance ... perhaps its some bug in the code."
   ]
  },
  {
   "cell_type": "code",
   "execution_count": null,
   "metadata": {},
   "outputs": [],
   "source": []
  }
 ],
 "metadata": {
  "kernelspec": {
   "display_name": "Python 3",
   "language": "python",
   "name": "python3"
  },
  "language_info": {
   "codemirror_mode": {
    "name": "ipython",
    "version": 3
   },
   "file_extension": ".py",
   "mimetype": "text/x-python",
   "name": "python",
   "nbconvert_exporter": "python",
   "pygments_lexer": "ipython3",
   "version": "3.6.3"
  }
 },
 "nbformat": 4,
 "nbformat_minor": 2
}
